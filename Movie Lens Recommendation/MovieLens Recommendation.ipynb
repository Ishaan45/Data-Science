{
  "cells": [
    {
      "metadata": {
        "_uuid": "8c849eac69aec45f4e765cbb7cea8ffcf8c5dfd8"
      },
      "cell_type": "markdown",
      "source": "**In this kernel I have designed basic recommendation system using both content based and collaborative approaches**."
    },
    {
      "metadata": {
        "_uuid": "476a05b7ae27d285b66036c406bac947af4ec76e"
      },
      "cell_type": "markdown",
      "source": "### Importing dependencies"
    },
    {
      "metadata": {
        "_cell_guid": "b1076dfc-b9ad-4769-8c92-a6c4dae69d19",
        "_uuid": "8f2839f25d086af736a60e9eeb907d3b93b6e0e5",
        "trusted": true
      },
      "cell_type": "code",
      "source": "import numpy as np # linear algebra\nimport pandas as pd # data processing, CSV file I/O (e.g. pd.read_csv)\nimport seaborn as sns\nimport matplotlib.pyplot as plt\nfrom sklearn.metrics.pairwise import linear_kernel\nfrom sklearn.metrics.pairwise import pairwise_distances\nimport os\nprint(os.listdir(\"../input\"))\nimport warnings\nwarnings.filterwarnings('ignore')",
      "execution_count": 1,
      "outputs": [
        {
          "output_type": "stream",
          "text": "['ml-100k']\n",
          "name": "stdout"
        }
      ]
    },
    {
      "metadata": {
        "_uuid": "91d482daa9b4f899d459744ea56941c9636bbc4e"
      },
      "cell_type": "markdown",
      "source": "### Importing user data"
    },
    {
      "metadata": {
        "_cell_guid": "79c7e3d0-c299-4dcb-8224-4455121ee9b0",
        "_uuid": "d629ff2d2480ee46fbb7e2d37f6b5fab8052498a",
        "trusted": true
      },
      "cell_type": "code",
      "source": "u_cols = ['user_id', 'age', 'sex', 'occupation', 'zip_code']\n\nuser_feats = pd.read_csv('../input/ml-100k/u.user', sep ='|', encoding ='latin-1',parse_dates = True,names=u_cols)\nuser_feats.head()",
      "execution_count": 2,
      "outputs": [
        {
          "output_type": "execute_result",
          "execution_count": 2,
          "data": {
            "text/plain": "   user_id  age sex  occupation zip_code\n0        1   24   M  technician    85711\n1        2   53   F       other    94043\n2        3   23   M      writer    32067\n3        4   24   M  technician    43537\n4        5   33   F       other    15213",
            "text/html": "<div>\n<style scoped>\n    .dataframe tbody tr th:only-of-type {\n        vertical-align: middle;\n    }\n\n    .dataframe tbody tr th {\n        vertical-align: top;\n    }\n\n    .dataframe thead th {\n        text-align: right;\n    }\n</style>\n<table border=\"1\" class=\"dataframe\">\n  <thead>\n    <tr style=\"text-align: right;\">\n      <th></th>\n      <th>user_id</th>\n      <th>age</th>\n      <th>sex</th>\n      <th>occupation</th>\n      <th>zip_code</th>\n    </tr>\n  </thead>\n  <tbody>\n    <tr>\n      <th>0</th>\n      <td>1</td>\n      <td>24</td>\n      <td>M</td>\n      <td>technician</td>\n      <td>85711</td>\n    </tr>\n    <tr>\n      <th>1</th>\n      <td>2</td>\n      <td>53</td>\n      <td>F</td>\n      <td>other</td>\n      <td>94043</td>\n    </tr>\n    <tr>\n      <th>2</th>\n      <td>3</td>\n      <td>23</td>\n      <td>M</td>\n      <td>writer</td>\n      <td>32067</td>\n    </tr>\n    <tr>\n      <th>3</th>\n      <td>4</td>\n      <td>24</td>\n      <td>M</td>\n      <td>technician</td>\n      <td>43537</td>\n    </tr>\n    <tr>\n      <th>4</th>\n      <td>5</td>\n      <td>33</td>\n      <td>F</td>\n      <td>other</td>\n      <td>15213</td>\n    </tr>\n  </tbody>\n</table>\n</div>"
          },
          "metadata": {}
        }
      ]
    },
    {
      "metadata": {
        "_uuid": "8eaa8df1836425fbb2da3ae5897b7992d0b47231"
      },
      "cell_type": "markdown",
      "source": "### Importing ratings data"
    },
    {
      "metadata": {
        "_uuid": "1db926578007c598b26447e336fcb4b486ef9b5e",
        "trusted": true
      },
      "cell_type": "code",
      "source": "r_cols = ['user_id', 'movie_id', 'rating', 'unix_timestamp']\n\nratings = pd.read_csv('../input/ml-100k/u.data', sep='\\t', names=r_cols,encoding='latin-1')\nratings.head()",
      "execution_count": 3,
      "outputs": [
        {
          "output_type": "execute_result",
          "execution_count": 3,
          "data": {
            "text/plain": "   user_id  movie_id  rating  unix_timestamp\n0      196       242       3       881250949\n1      186       302       3       891717742\n2       22       377       1       878887116\n3      244        51       2       880606923\n4      166       346       1       886397596",
            "text/html": "<div>\n<style scoped>\n    .dataframe tbody tr th:only-of-type {\n        vertical-align: middle;\n    }\n\n    .dataframe tbody tr th {\n        vertical-align: top;\n    }\n\n    .dataframe thead th {\n        text-align: right;\n    }\n</style>\n<table border=\"1\" class=\"dataframe\">\n  <thead>\n    <tr style=\"text-align: right;\">\n      <th></th>\n      <th>user_id</th>\n      <th>movie_id</th>\n      <th>rating</th>\n      <th>unix_timestamp</th>\n    </tr>\n  </thead>\n  <tbody>\n    <tr>\n      <th>0</th>\n      <td>196</td>\n      <td>242</td>\n      <td>3</td>\n      <td>881250949</td>\n    </tr>\n    <tr>\n      <th>1</th>\n      <td>186</td>\n      <td>302</td>\n      <td>3</td>\n      <td>891717742</td>\n    </tr>\n    <tr>\n      <th>2</th>\n      <td>22</td>\n      <td>377</td>\n      <td>1</td>\n      <td>878887116</td>\n    </tr>\n    <tr>\n      <th>3</th>\n      <td>244</td>\n      <td>51</td>\n      <td>2</td>\n      <td>880606923</td>\n    </tr>\n    <tr>\n      <th>4</th>\n      <td>166</td>\n      <td>346</td>\n      <td>1</td>\n      <td>886397596</td>\n    </tr>\n  </tbody>\n</table>\n</div>"
          },
          "metadata": {}
        }
      ]
    },
    {
      "metadata": {
        "_uuid": "c5728cedb5dadab6ec063dc8ef688fc21bc976a4"
      },
      "cell_type": "markdown",
      "source": "### Importing movie data"
    },
    {
      "metadata": {
        "_uuid": "7669a307acf03b73ec4110b061fae5071ec998c0",
        "trusted": true
      },
      "cell_type": "code",
      "source": "m_cols = ['movie_id', 'title', 'release_date', 'video_release_date', 'imdb_url','unknown', 'Action', 'Adventure',\n'Animation', 'Children\\'s', 'Comedy', 'Crime', 'Documentary', 'Drama', 'Fantasy','Film-Noir', 'Horror', 'Musical', 'Mystery', 'Romance', 'Sci-Fi', 'Thriller', 'War', 'Western']\n\nmovie_feats = pd.read_csv('../input/ml-100k/u.item', sep='|', names=m_cols,encoding='latin-1')\nmovie_feats.head()",
      "execution_count": 4,
      "outputs": [
        {
          "output_type": "execute_result",
          "execution_count": 4,
          "data": {
            "text/plain": "   movie_id              title release_date   ...     Thriller War  Western\n0         1   Toy Story (1995)  01-Jan-1995   ...            0   0        0\n1         2   GoldenEye (1995)  01-Jan-1995   ...            1   0        0\n2         3  Four Rooms (1995)  01-Jan-1995   ...            1   0        0\n3         4  Get Shorty (1995)  01-Jan-1995   ...            0   0        0\n4         5     Copycat (1995)  01-Jan-1995   ...            1   0        0\n\n[5 rows x 24 columns]",
            "text/html": "<div>\n<style scoped>\n    .dataframe tbody tr th:only-of-type {\n        vertical-align: middle;\n    }\n\n    .dataframe tbody tr th {\n        vertical-align: top;\n    }\n\n    .dataframe thead th {\n        text-align: right;\n    }\n</style>\n<table border=\"1\" class=\"dataframe\">\n  <thead>\n    <tr style=\"text-align: right;\">\n      <th></th>\n      <th>movie_id</th>\n      <th>title</th>\n      <th>release_date</th>\n      <th>video_release_date</th>\n      <th>imdb_url</th>\n      <th>unknown</th>\n      <th>Action</th>\n      <th>Adventure</th>\n      <th>Animation</th>\n      <th>Children's</th>\n      <th>Comedy</th>\n      <th>Crime</th>\n      <th>Documentary</th>\n      <th>Drama</th>\n      <th>Fantasy</th>\n      <th>Film-Noir</th>\n      <th>Horror</th>\n      <th>Musical</th>\n      <th>Mystery</th>\n      <th>Romance</th>\n      <th>Sci-Fi</th>\n      <th>Thriller</th>\n      <th>War</th>\n      <th>Western</th>\n    </tr>\n  </thead>\n  <tbody>\n    <tr>\n      <th>0</th>\n      <td>1</td>\n      <td>Toy Story (1995)</td>\n      <td>01-Jan-1995</td>\n      <td>NaN</td>\n      <td>http://us.imdb.com/M/title-exact?Toy%20Story%2...</td>\n      <td>0</td>\n      <td>0</td>\n      <td>0</td>\n      <td>1</td>\n      <td>1</td>\n      <td>1</td>\n      <td>0</td>\n      <td>0</td>\n      <td>0</td>\n      <td>0</td>\n      <td>0</td>\n      <td>0</td>\n      <td>0</td>\n      <td>0</td>\n      <td>0</td>\n      <td>0</td>\n      <td>0</td>\n      <td>0</td>\n      <td>0</td>\n    </tr>\n    <tr>\n      <th>1</th>\n      <td>2</td>\n      <td>GoldenEye (1995)</td>\n      <td>01-Jan-1995</td>\n      <td>NaN</td>\n      <td>http://us.imdb.com/M/title-exact?GoldenEye%20(...</td>\n      <td>0</td>\n      <td>1</td>\n      <td>1</td>\n      <td>0</td>\n      <td>0</td>\n      <td>0</td>\n      <td>0</td>\n      <td>0</td>\n      <td>0</td>\n      <td>0</td>\n      <td>0</td>\n      <td>0</td>\n      <td>0</td>\n      <td>0</td>\n      <td>0</td>\n      <td>0</td>\n      <td>1</td>\n      <td>0</td>\n      <td>0</td>\n    </tr>\n    <tr>\n      <th>2</th>\n      <td>3</td>\n      <td>Four Rooms (1995)</td>\n      <td>01-Jan-1995</td>\n      <td>NaN</td>\n      <td>http://us.imdb.com/M/title-exact?Four%20Rooms%...</td>\n      <td>0</td>\n      <td>0</td>\n      <td>0</td>\n      <td>0</td>\n      <td>0</td>\n      <td>0</td>\n      <td>0</td>\n      <td>0</td>\n      <td>0</td>\n      <td>0</td>\n      <td>0</td>\n      <td>0</td>\n      <td>0</td>\n      <td>0</td>\n      <td>0</td>\n      <td>0</td>\n      <td>1</td>\n      <td>0</td>\n      <td>0</td>\n    </tr>\n    <tr>\n      <th>3</th>\n      <td>4</td>\n      <td>Get Shorty (1995)</td>\n      <td>01-Jan-1995</td>\n      <td>NaN</td>\n      <td>http://us.imdb.com/M/title-exact?Get%20Shorty%...</td>\n      <td>0</td>\n      <td>1</td>\n      <td>0</td>\n      <td>0</td>\n      <td>0</td>\n      <td>1</td>\n      <td>0</td>\n      <td>0</td>\n      <td>1</td>\n      <td>0</td>\n      <td>0</td>\n      <td>0</td>\n      <td>0</td>\n      <td>0</td>\n      <td>0</td>\n      <td>0</td>\n      <td>0</td>\n      <td>0</td>\n      <td>0</td>\n    </tr>\n    <tr>\n      <th>4</th>\n      <td>5</td>\n      <td>Copycat (1995)</td>\n      <td>01-Jan-1995</td>\n      <td>NaN</td>\n      <td>http://us.imdb.com/M/title-exact?Copycat%20(1995)</td>\n      <td>0</td>\n      <td>0</td>\n      <td>0</td>\n      <td>0</td>\n      <td>0</td>\n      <td>0</td>\n      <td>1</td>\n      <td>0</td>\n      <td>1</td>\n      <td>0</td>\n      <td>0</td>\n      <td>0</td>\n      <td>0</td>\n      <td>0</td>\n      <td>0</td>\n      <td>0</td>\n      <td>1</td>\n      <td>0</td>\n      <td>0</td>\n    </tr>\n  </tbody>\n</table>\n</div>"
          },
          "metadata": {}
        }
      ]
    },
    {
      "metadata": {
        "_uuid": "c052e6c4fa8a122d448b5945b528ca7570345856"
      },
      "cell_type": "markdown",
      "source": "### Brief User Data Analysis "
    },
    {
      "metadata": {
        "_uuid": "aeece6d9d7c7e6c15dab9a718cb36b6ab9476104",
        "trusted": true
      },
      "cell_type": "code",
      "source": "# Total number of unique users and movies\nn_users = ratings.user_id.unique().shape[0]\nprint(\"The total number of users:\",n_users)\nn_movies = ratings.movie_id.unique().shape[0]\nprint(\"The total number of movies:\",n_movies)",
      "execution_count": 5,
      "outputs": [
        {
          "output_type": "stream",
          "text": "The total number of users: 943\nThe total number of movies: 1682\n",
          "name": "stdout"
        }
      ]
    },
    {
      "metadata": {
        "_uuid": "ba20a815df0e8fdb80f42a74ed78fd99bda4480b",
        "trusted": true
      },
      "cell_type": "code",
      "source": "min_age = user_feats['age'].min()\nprint(\"The minimum age in the user data is:\",min_age)\n\nmax_age = user_feats['age'].max()\nprint(\"The maximum age in the user data is:\",max_age)",
      "execution_count": 6,
      "outputs": [
        {
          "output_type": "stream",
          "text": "The minimum age in the user data is: 7\nThe maximum age in the user data is: 73\n",
          "name": "stdout"
        }
      ]
    },
    {
      "metadata": {
        "_uuid": "d10c75d0c1024f556e980c2ff64c9e3cbf973763",
        "trusted": true
      },
      "cell_type": "code",
      "source": "sns.distplot(user_feats['age'])# Histogram of age\nplt.show()",
      "execution_count": 7,
      "outputs": [
        {
          "output_type": "display_data",
          "data": {
            "text/plain": "<Figure size 432x288 with 1 Axes>",
            "image/png": "[encoded data removed]"
          },
          "metadata": {
            "needs_background": "light"
          }
        }
      ]
    },
    {
      "metadata": {
        "_uuid": "df461865819f6106d98a946245c42038e43ff9ab",
        "trusted": true
      },
      "cell_type": "code",
      "source": "# Bining age into categories\nbin = [0,18,40,60,80]\n\ncategory = pd.cut(user_feats['age'],bin ,labels=['child','young','mature','old'])\ncat = category.to_frame(name = 'user_ctype')\nuser_feat = pd.concat([user_feats,cat],axis=1)\nuser_feat.head()",
      "execution_count": 8,
      "outputs": [
        {
          "output_type": "execute_result",
          "execution_count": 8,
          "data": {
            "text/plain": "   user_id  age sex  occupation zip_code user_ctype\n0        1   24   M  technician    85711      young\n1        2   53   F       other    94043     mature\n2        3   23   M      writer    32067      young\n3        4   24   M  technician    43537      young\n4        5   33   F       other    15213      young",
            "text/html": "<div>\n<style scoped>\n    .dataframe tbody tr th:only-of-type {\n        vertical-align: middle;\n    }\n\n    .dataframe tbody tr th {\n        vertical-align: top;\n    }\n\n    .dataframe thead th {\n        text-align: right;\n    }\n</style>\n<table border=\"1\" class=\"dataframe\">\n  <thead>\n    <tr style=\"text-align: right;\">\n      <th></th>\n      <th>user_id</th>\n      <th>age</th>\n      <th>sex</th>\n      <th>occupation</th>\n      <th>zip_code</th>\n      <th>user_ctype</th>\n    </tr>\n  </thead>\n  <tbody>\n    <tr>\n      <th>0</th>\n      <td>1</td>\n      <td>24</td>\n      <td>M</td>\n      <td>technician</td>\n      <td>85711</td>\n      <td>young</td>\n    </tr>\n    <tr>\n      <th>1</th>\n      <td>2</td>\n      <td>53</td>\n      <td>F</td>\n      <td>other</td>\n      <td>94043</td>\n      <td>mature</td>\n    </tr>\n    <tr>\n      <th>2</th>\n      <td>3</td>\n      <td>23</td>\n      <td>M</td>\n      <td>writer</td>\n      <td>32067</td>\n      <td>young</td>\n    </tr>\n    <tr>\n      <th>3</th>\n      <td>4</td>\n      <td>24</td>\n      <td>M</td>\n      <td>technician</td>\n      <td>43537</td>\n      <td>young</td>\n    </tr>\n    <tr>\n      <th>4</th>\n      <td>5</td>\n      <td>33</td>\n      <td>F</td>\n      <td>other</td>\n      <td>15213</td>\n      <td>young</td>\n    </tr>\n  </tbody>\n</table>\n</div>"
          },
          "metadata": {}
        }
      ]
    },
    {
      "metadata": {
        "trusted": true,
        "_uuid": "6ca0b8f0917e3f18840966053cc76bae5825ff80"
      },
      "cell_type": "code",
      "source": "user_feat['sex'].value_counts()",
      "execution_count": 9,
      "outputs": [
        {
          "output_type": "execute_result",
          "execution_count": 9,
          "data": {
            "text/plain": "M    670\nF    273\nName: sex, dtype: int64"
          },
          "metadata": {}
        }
      ]
    },
    {
      "metadata": {
        "_uuid": "9e3a4b1c569530fcc5f616aea28b6ac1e2c522d2"
      },
      "cell_type": "markdown",
      "source": "There are 670 male users and 273 female users in the movie lens data."
    },
    {
      "metadata": {
        "trusted": true,
        "_uuid": "3cd3e2c9ff60e848fd13f0e48a8a570d27528ace"
      },
      "cell_type": "code",
      "source": "print(user_feat['occupation'].value_counts().head())\nprint(user_feats['occupation'].nunique())",
      "execution_count": 10,
      "outputs": [
        {
          "output_type": "stream",
          "text": "student          196\nother            105\neducator          95\nadministrator     79\nengineer          67\nName: occupation, dtype: int64\n21\n",
          "name": "stdout"
        }
      ]
    },
    {
      "metadata": {
        "_uuid": "10812458fcee5014b73e7cc6f5b29886ff385408"
      },
      "cell_type": "markdown",
      "source": "Maximum users are student in this data and the users belong to 21 different occupations."
    },
    {
      "metadata": {
        "_uuid": "3548ab54565089787310be42d840d17731faa9de"
      },
      "cell_type": "markdown",
      "source": "As the movie genre data is one hot encoded i.e. the data is in sparse format, no vectorization is required and thus we will simply slice that frame from the complete data and use it further for Content based recommendation."
    },
    {
      "metadata": {
        "trusted": true,
        "_uuid": "ddcbb4a52b82176a2e30443b665d24df3c522b29"
      },
      "cell_type": "code",
      "source": "movie_type = movie_feats[movie_feats.columns[5:24]]\nmovie_type.head()",
      "execution_count": 11,
      "outputs": [
        {
          "output_type": "execute_result",
          "execution_count": 11,
          "data": {
            "text/plain": "   unknown  Action  Adventure   ...     Thriller  War  Western\n0        0       0          0   ...            0    0        0\n1        0       1          1   ...            1    0        0\n2        0       0          0   ...            1    0        0\n3        0       1          0   ...            0    0        0\n4        0       0          0   ...            1    0        0\n\n[5 rows x 19 columns]",
            "text/html": "<div>\n<style scoped>\n    .dataframe tbody tr th:only-of-type {\n        vertical-align: middle;\n    }\n\n    .dataframe tbody tr th {\n        vertical-align: top;\n    }\n\n    .dataframe thead th {\n        text-align: right;\n    }\n</style>\n<table border=\"1\" class=\"dataframe\">\n  <thead>\n    <tr style=\"text-align: right;\">\n      <th></th>\n      <th>unknown</th>\n      <th>Action</th>\n      <th>Adventure</th>\n      <th>Animation</th>\n      <th>Children's</th>\n      <th>Comedy</th>\n      <th>Crime</th>\n      <th>Documentary</th>\n      <th>Drama</th>\n      <th>Fantasy</th>\n      <th>Film-Noir</th>\n      <th>Horror</th>\n      <th>Musical</th>\n      <th>Mystery</th>\n      <th>Romance</th>\n      <th>Sci-Fi</th>\n      <th>Thriller</th>\n      <th>War</th>\n      <th>Western</th>\n    </tr>\n  </thead>\n  <tbody>\n    <tr>\n      <th>0</th>\n      <td>0</td>\n      <td>0</td>\n      <td>0</td>\n      <td>1</td>\n      <td>1</td>\n      <td>1</td>\n      <td>0</td>\n      <td>0</td>\n      <td>0</td>\n      <td>0</td>\n      <td>0</td>\n      <td>0</td>\n      <td>0</td>\n      <td>0</td>\n      <td>0</td>\n      <td>0</td>\n      <td>0</td>\n      <td>0</td>\n      <td>0</td>\n    </tr>\n    <tr>\n      <th>1</th>\n      <td>0</td>\n      <td>1</td>\n      <td>1</td>\n      <td>0</td>\n      <td>0</td>\n      <td>0</td>\n      <td>0</td>\n      <td>0</td>\n      <td>0</td>\n      <td>0</td>\n      <td>0</td>\n      <td>0</td>\n      <td>0</td>\n      <td>0</td>\n      <td>0</td>\n      <td>0</td>\n      <td>1</td>\n      <td>0</td>\n      <td>0</td>\n    </tr>\n    <tr>\n      <th>2</th>\n      <td>0</td>\n      <td>0</td>\n      <td>0</td>\n      <td>0</td>\n      <td>0</td>\n      <td>0</td>\n      <td>0</td>\n      <td>0</td>\n      <td>0</td>\n      <td>0</td>\n      <td>0</td>\n      <td>0</td>\n      <td>0</td>\n      <td>0</td>\n      <td>0</td>\n      <td>0</td>\n      <td>1</td>\n      <td>0</td>\n      <td>0</td>\n    </tr>\n    <tr>\n      <th>3</th>\n      <td>0</td>\n      <td>1</td>\n      <td>0</td>\n      <td>0</td>\n      <td>0</td>\n      <td>1</td>\n      <td>0</td>\n      <td>0</td>\n      <td>1</td>\n      <td>0</td>\n      <td>0</td>\n      <td>0</td>\n      <td>0</td>\n      <td>0</td>\n      <td>0</td>\n      <td>0</td>\n      <td>0</td>\n      <td>0</td>\n      <td>0</td>\n    </tr>\n    <tr>\n      <th>4</th>\n      <td>0</td>\n      <td>0</td>\n      <td>0</td>\n      <td>0</td>\n      <td>0</td>\n      <td>0</td>\n      <td>1</td>\n      <td>0</td>\n      <td>1</td>\n      <td>0</td>\n      <td>0</td>\n      <td>0</td>\n      <td>0</td>\n      <td>0</td>\n      <td>0</td>\n      <td>0</td>\n      <td>1</td>\n      <td>0</td>\n      <td>0</td>\n    </tr>\n  </tbody>\n</table>\n</div>"
          },
          "metadata": {}
        }
      ]
    },
    {
      "metadata": {
        "trusted": true,
        "_uuid": "356254a4f4d892ceb04da14a08e9916743365d55"
      },
      "cell_type": "code",
      "source": "#Assigning unique indices to movies and dropping the duplicate movies\nindices = pd.Series(movie_feats.index, index=movie_feats['title']).drop_duplicates()",
      "execution_count": 12,
      "outputs": []
    },
    {
      "metadata": {
        "trusted": true,
        "_uuid": "bef45af8d3a90d3b08d45c93910ebadd7f3e0c27"
      },
      "cell_type": "code",
      "source": "#Calculating the cosine similarity between the movie genre using the linear kernel pairwise method\ncosine_sim = linear_kernel(movie_type, movie_type)",
      "execution_count": 13,
      "outputs": []
    },
    {
      "metadata": {
        "_uuid": "8e63fc26533d769869b94497495fab7bd4ab4cab"
      },
      "cell_type": "markdown",
      "source": "## Content-Based Recommendation function"
    },
    {
      "metadata": {
        "trusted": true,
        "_uuid": "e9d9abb6dbe55c6577a6a07cdcd1ceb1df4e9f03"
      },
      "cell_type": "code",
      "source": "# Function for getting the recommendation of the movies on the basis of the movie genre\n\ndef get_recommendations(title, cosine_sim=cosine_sim):\n    \n    ind = indices[title]\n\n    # Get the pairwsie similarity scores of all movies with that movie\n    similarity_scores = list(enumerate(cosine_sim[ind]))\n\n    # Sort the movies based on the similarity scores\n    similarity_scores = sorted(similarity_scores, key=lambda x: x[1], reverse=True)\n\n    # Get the scores of the 10 most similar movies\n    similarity_scores = similarity_scores[1:11]\n\n    # Get the movie indices\n    movie_indices = [i[0] for i in similarity_scores]\n\n    # Return the top 10 most similar movies\n    return movie_feats['title'].iloc[movie_indices]",
      "execution_count": 14,
      "outputs": []
    },
    {
      "metadata": {
        "trusted": true,
        "_uuid": "6f3229a99b1a6b6649cc16910674fc895bed62b9"
      },
      "cell_type": "code",
      "source": "print(\"The similar recommended movies to From Dusk Till Dawn is:\\n\", get_recommendations('Evil Dead II (1987)'))",
      "execution_count": 15,
      "outputs": [
        {
          "output_type": "stream",
          "text": "The similar recommended movies to From Dusk Till Dawn is:\n 200              Evil Dead II (1987)\n16        From Dusk Till Dawn (1996)\n20     Muppet Treasure Island (1996)\n28             Batman Forever (1995)\n100               Heavy Metal (1981)\n109      Operation Dumbo Drop (1995)\n172       Princess Bride, The (1987)\n230            Batman Returns (1992)\n256              Men in Black (1997)\n384                 True Lies (1994)\nName: title, dtype: object\n",
          "name": "stdout"
        }
      ]
    },
    {
      "metadata": {
        "trusted": true,
        "_uuid": "7af7a299b9ab251598e53dc4a7264e43ef39aade"
      },
      "cell_type": "markdown",
      "source": "## Collaborative filtering"
    },
    {
      "metadata": {
        "trusted": true,
        "_uuid": "47063a24291c0b3c5df26bc94b13cd4d4f4d6396"
      },
      "cell_type": "code",
      "source": "data_matrix = np.zeros((n_users, n_movies))\ndata_matrix.shape",
      "execution_count": 16,
      "outputs": [
        {
          "output_type": "execute_result",
          "execution_count": 16,
          "data": {
            "text/plain": "(943, 1682)"
          },
          "metadata": {}
        }
      ]
    },
    {
      "metadata": {
        "trusted": true,
        "_uuid": "da32804d25e12d80d68d62215af305b2128947f0"
      },
      "cell_type": "code",
      "source": "for line in ratings.itertuples():\n    data_matrix[line[1]-1, line[2]-1] = line[3]   ",
      "execution_count": 17,
      "outputs": []
    },
    {
      "metadata": {
        "trusted": true,
        "_uuid": "4911c165d3f01c883218a2f5bb6977bc152f77b4"
      },
      "cell_type": "code",
      "source": "user_sim = pairwise_distances(data_matrix, metric='cosine')\nmovie_sim = pairwise_distances(data_matrix.T, metric='cosine')",
      "execution_count": 18,
      "outputs": []
    },
    {
      "metadata": {
        "trusted": true,
        "_uuid": "afc272159d5b238e97b6ba5dd96b701e9c507ea2"
      },
      "cell_type": "code",
      "source": "def predict(ratings, similarity, type='user'):\n    if type == 'user':\n        mean_user_rating = ratings.mean(axis=1)\n        ratings_diff = (ratings - mean_user_rating[:, np.newaxis])\n        pred = mean_user_rating[:, np.newaxis] + similarity.dot(ratings_diff) / np.array([np.abs(similarity).sum(axis=1)]).T\n    elif type == 'item':\n        pred = ratings.dot(similarity) / np.array([np.abs(similarity).sum(axis=1)])\n    return pred",
      "execution_count": 19,
      "outputs": []
    },
    {
      "metadata": {
        "trusted": true,
        "_uuid": "12d004c4e785a0534d78b4d7dc1b9187bcea2ee1"
      },
      "cell_type": "code",
      "source": "user_pred = predict(data_matrix, user_sim, type='user')\nmovie_pred = predict(data_matrix, movie_sim, type='item')",
      "execution_count": 20,
      "outputs": []
    },
    {
      "metadata": {
        "trusted": true,
        "_uuid": "ceedeea30b7e8fe449f369c590ce09ce9f8e7e63"
      },
      "cell_type": "code",
      "source": "user_pred",
      "execution_count": 21,
      "outputs": [
        {
          "output_type": "execute_result",
          "execution_count": 21,
          "data": {
            "text/plain": "array([[ 2.06532606,  0.73430275,  0.62992381, ...,  0.39359041,\n         0.39304874,  0.3927712 ],\n       [ 1.76308836,  0.38404019,  0.19617889, ..., -0.08837789,\n        -0.0869183 , -0.08671183],\n       [ 1.79590398,  0.32904733,  0.15882885, ..., -0.13699223,\n        -0.13496852, -0.13476488],\n       ...,\n       [ 1.59151513,  0.27526889,  0.10219534, ..., -0.16735162,\n        -0.16657451, -0.16641377],\n       [ 1.81036267,  0.40479877,  0.27545013, ..., -0.00907358,\n        -0.00846587, -0.00804858],\n       [ 1.8384313 ,  0.47964837,  0.38496292, ...,  0.14686675,\n         0.14629808,  0.14641455]])"
          },
          "metadata": {}
        }
      ]
    },
    {
      "metadata": {
        "trusted": true,
        "_uuid": "0df259f0e85100b482c3410c0942d4dc0bea5c22"
      },
      "cell_type": "code",
      "source": "movie_pred",
      "execution_count": 22,
      "outputs": [
        {
          "output_type": "execute_result",
          "execution_count": 22,
          "data": {
            "text/plain": "array([[0.44627765, 0.475473  , 0.50593755, ..., 0.58815455, 0.5731069 ,\n        0.56669645],\n       [0.10854432, 0.13295661, 0.12558851, ..., 0.13445801, 0.13657587,\n        0.13711081],\n       [0.08568497, 0.09169006, 0.08764343, ..., 0.08465892, 0.08976784,\n        0.09084451],\n       ...,\n       [0.03230047, 0.0450241 , 0.04292449, ..., 0.05302764, 0.0519099 ,\n        0.05228033],\n       [0.15777917, 0.17409459, 0.18900003, ..., 0.19979296, 0.19739388,\n        0.20003117],\n       [0.24767207, 0.24489212, 0.28263031, ..., 0.34410424, 0.33051406,\n        0.33102478]])"
          },
          "metadata": {}
        }
      ]
    },
    {
      "metadata": {
        "trusted": true,
        "_uuid": "b8b55ef5bd7c2e34e0b9749c609ff8a021f39bc9"
      },
      "cell_type": "markdown",
      "source": "**The shape of predictions from user_similarity matrix and movie similarity matrix is (943 , 1682)**"
    },
    {
      "metadata": {
        "trusted": true,
        "_uuid": "696472ae39980573ca8e6008f6ab80cf3d9e4a7a"
      },
      "cell_type": "code",
      "source": "",
      "execution_count": null,
      "outputs": []
    }
  ],
  "metadata": {
    "kernelspec": {
      "display_name": "Python 3",
      "language": "python",
      "name": "python3"
    },
    "language_info": {
      "name": "python",
      "version": "3.6.6",
      "mimetype": "text/x-python",
      "codemirror_mode": {
        "name": "ipython",
        "version": 3
      },
      "pygments_lexer": "ipython3",
      "nbconvert_exporter": "python",
      "file_extension": ".py"
    }
  },
  "nbformat": 4,
  "nbformat_minor": 1
}