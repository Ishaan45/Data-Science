{
 "cells": [
  {
   "cell_type": "code",
   "execution_count": 256,
   "metadata": {},
   "outputs": [],
   "source": [
    "import requests\n",
    "import csv\n",
    "import pandas as pd\n",
    "import re\n",
    "import functools\n",
    "import numpy as np\n",
    "import warnings\n",
    "from itertools import chain\n",
    "\n",
    "warnings.simplefilter(\"ignore\")"
   ]
  },
  {
   "cell_type": "markdown",
   "metadata": {},
   "source": [
    "#### Code for generating month-wise data file for easy merge"
   ]
  },
  {
   "cell_type": "code",
   "execution_count": 173,
   "metadata": {},
   "outputs": [],
   "source": [
    "data = []\n",
    "url = 'https://ranking.ittf.com/public/s/ranking/csv?category=SEN&typeGender=M%3BSINGLES&year=2018&month={}'\n",
    "\n",
    "for i in range(1,9):\n",
    "    response = requests.get(url.format(i))\n",
    "    \n",
    "    for resp in response.content.decode(\"utf-8\").splitlines():\n",
    "        resp = resp.split(',')\n",
    "        data.append(resp)\n",
    "        \n",
    "    with open(\"data_2018_{}.csv\".format(i), \"w\") as csv_file:\n",
    "        writer = csv.writer(csv_file)\n",
    "        for line in data:\n",
    "            writer.writerow(line)\n",
    "    data = []"
   ]
  },
  {
   "cell_type": "code",
   "execution_count": 371,
   "metadata": {},
   "outputs": [],
   "source": [
    "### Fetching all month files and merging them into a single dataframe on unique column \"ID\" using reduce method.\n",
    "file_names = [\"data_2018_{}.csv\".format(i) for i in range(1,10)]\n",
    "df_list = [pd.read_csv(file_name) for file_name in file_names]\n",
    "data = functools.reduce(lambda x, y: pd.merge(x, y, on = 'ID'), df_list)"
   ]
  },
  {
   "cell_type": "code",
   "execution_count": 372,
   "metadata": {},
   "outputs": [],
   "source": [
    "### Function for removing unwanted columns\n",
    "def drop_unwanted_cols(data,*args):\n",
    "    for arg in args:\n",
    "        column_names = [col for col in data.columns for arg in args if col.startswith(arg)]      \n",
    "    new_data = data.drop(column_names,axis=1)\n",
    "    return new_data"
   ]
  },
  {
   "cell_type": "code",
   "execution_count": 373,
   "metadata": {},
   "outputs": [],
   "source": [
    "## Copying column values to be merged later into the data\n",
    "gender = data['Gender_x'].values\n",
    "name = data['Name_x'].values\n",
    "country = data['Assoc_x'].values\n",
    "year = data['YearNum_x'].values\n",
    "ids = data['ID'].values"
   ]
  },
  {
   "cell_type": "code",
   "execution_count": 374,
   "metadata": {},
   "outputs": [],
   "source": [
    "# Dropping unwanted columns\n",
    "data = drop_unwanted_cols(data,'Previous','Gender','Name','Assoc','Year','WeekNum','MonthNum')\n",
    "data = data.drop('ID',axis =1)"
   ]
  },
  {
   "cell_type": "code",
   "execution_count": 375,
   "metadata": {},
   "outputs": [],
   "source": [
    "## Code for creating column names in month order\n",
    "unique_cols = ['Rank','Points']\n",
    "all_cols = [\"{}_{}\".format(col,i) for col in unique_cols for i in range(1,10)]\n",
    "\n",
    "rank_names = all_cols[0:9]\n",
    "points_names = all_cols[9:18]\n",
    "\n",
    "new_columns = [rank_names[i]+\" \"+points_names[i] for i in range(0,9)]\n",
    "new_list = [nc.split(' ') for nc in new_columns]\n",
    "new_cols = list(chain.from_iterable(new_list))"
   ]
  },
  {
   "cell_type": "code",
   "execution_count": 376,
   "metadata": {},
   "outputs": [],
   "source": [
    "data.columns = new_cols"
   ]
  },
  {
   "cell_type": "code",
   "execution_count": 377,
   "metadata": {},
   "outputs": [],
   "source": [
    "data['ID'] = data['Name'] = data['Gender'] = data['Country'] = data['Year'] = np.nan"
   ]
  },
  {
   "cell_type": "code",
   "execution_count": 378,
   "metadata": {},
   "outputs": [],
   "source": [
    "data['ID'] = ids\n",
    "data['Name'] = name\n",
    "data['Gender'] = gender\n",
    "data['Country'] = country\n",
    "data['Year'] = year"
   ]
  },
  {
   "cell_type": "code",
   "execution_count": 379,
   "metadata": {},
   "outputs": [],
   "source": [
    "columns = data.columns.tolist()\n",
    "cols = columns[18:24] + columns[0:18]"
   ]
  },
  {
   "cell_type": "code",
   "execution_count": 382,
   "metadata": {},
   "outputs": [],
   "source": [
    "data[cols].to_csv('ITTF_Ranking_2018.csv')"
   ]
  },
  {
   "cell_type": "code",
   "execution_count": null,
   "metadata": {},
   "outputs": [],
   "source": []
  }
 ],
 "metadata": {
  "kernelspec": {
   "display_name": "Python 3",
   "language": "python",
   "name": "python3"
  },
  "language_info": {
   "codemirror_mode": {
    "name": "ipython",
    "version": 3
   },
   "file_extension": ".py",
   "mimetype": "text/x-python",
   "name": "python",
   "nbconvert_exporter": "python",
   "pygments_lexer": "ipython3",
   "version": "3.7.4"
  }
 },
 "nbformat": 4,
 "nbformat_minor": 2
}
