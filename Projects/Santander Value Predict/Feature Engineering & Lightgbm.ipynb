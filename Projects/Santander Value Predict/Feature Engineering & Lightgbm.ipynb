{
  "cells": [
    {
      "metadata": {
        "_uuid": "8f2839f25d086af736a60e9eeb907d3b93b6e0e5",
        "_cell_guid": "b1076dfc-b9ad-4769-8c92-a6c4dae69d19",
        "trusted": true,
        "collapsed": true
      },
      "cell_type": "code",
      "source": "# This Python 3 environment comes with many helpful analytics libraries installed\n# It is defined by the kaggle/python docker image: https://github.com/kaggle/docker-python\n# For example, here's several helpful packages to load in \n\nimport numpy as np # linear algebra\nimport pandas as pd # data processing, CSV file I/O (e.g. pd.read_csv)\nfrom sklearn.linear_model import Lasso\nimport seaborn as sns\nimport sys\nimport warnings\nfrom scipy.stats import skew , kurtosis\nfrom sklearn.cluster import FeatureAgglomeration\nfrom sklearn.model_selection import train_test_split\nimport lightgbm as lgb\nif not sys.warnoptions:\n    warnings.simplefilter(\"ignore\")\n# Input data files are available in the \"../input/\" directory.\n# For example, running this (by clicking run or pressing Shift+Enter) will list the files in the input directory\n\nimport os\nprint(os.listdir(\"../input\"))\n\n# Any results you write to the current directory are saved as output.",
      "execution_count": null,
      "outputs": []
    },
    {
      "metadata": {
        "_uuid": "532b2ec1dbd83adcbd2f430008054acb00b2e7a3"
      },
      "cell_type": "markdown",
      "source": "### Loading train and test data"
    },
    {
      "metadata": {
        "_cell_guid": "79c7e3d0-c299-4dcb-8224-4455121ee9b0",
        "_uuid": "d629ff2d2480ee46fbb7e2d37f6b5fab8052498a",
        "trusted": true,
        "collapsed": true
      },
      "cell_type": "code",
      "source": "train = pd.read_csv('../input/train.csv')\ntest = pd.read_csv('../input/test.csv')\ntrain['log_target'] = np.log1p(train.target)\nprint(train.shape, test.shape)",
      "execution_count": null,
      "outputs": []
    },
    {
      "metadata": {
        "trusted": true,
        "_uuid": "d7f8dcef748d929ea31d7a61f874fab5873fc72a",
        "collapsed": true
      },
      "cell_type": "code",
      "source": "test.drop(\"ID\", axis = 1, inplace = True)\ny= train.log_target.values\nX_cols = [col for col in train.columns if col not in ['ID','target','log_target']]",
      "execution_count": null,
      "outputs": []
    },
    {
      "metadata": {
        "_uuid": "88faf039d2504110404b531dacfd0d6a768d312e"
      },
      "cell_type": "markdown",
      "source": "### Converting features into log transformation"
    },
    {
      "metadata": {
        "trusted": true,
        "_uuid": "198833a71506492dada911ee4d6be4dda762b607",
        "collapsed": true
      },
      "cell_type": "code",
      "source": "feats_to_convert = []\nfor col in X_cols:\n    diff = train[col].max() - train[col].min()\n    if diff>1000:\n        feats_to_convert.append(col)\nprint(len(feats_to_convert))\n\ntrain[feats_to_convert] = np.log1p(train[feats_to_convert].values)\ntest[feats_to_convert] = np.log1p(test[feats_to_convert].values)",
      "execution_count": null,
      "outputs": []
    },
    {
      "metadata": {
        "_uuid": "de54cc79bf0a2f9bd17be8ca57d53b29f2afe3dc"
      },
      "cell_type": "markdown",
      "source": "### Lasso Feature Selection "
    },
    {
      "metadata": {
        "_kg_hide-output": false,
        "_kg_hide-input": false,
        "trusted": true,
        "_uuid": "f1703715676cfaddc1c88610f9de8f7f0d8e6616",
        "collapsed": true
      },
      "cell_type": "code",
      "source": "model = Lasso(alpha=0.031,max_iter=1000, fit_intercept=True, normalize=False, random_state=42)\nmodel.fit(X=train[X_cols].values, y=train.log_target.values)\nimp_feats_indexes = np.nonzero(model.coef_)[0]\nimp_feats = np.array(X_cols)[imp_feats_indexes]\nprint('Number of important features selected by lasso:', len(imp_feats))",
      "execution_count": null,
      "outputs": []
    },
    {
      "metadata": {
        "trusted": true,
        "_uuid": "9ad94e4239db2788e09e0da5a3e47ac358d34a7a",
        "collapsed": true
      },
      "cell_type": "markdown",
      "source": "### Add Statistical Features"
    },
    {
      "metadata": {
        "trusted": true,
        "_uuid": "01c0fb5c38580da6e1166b020298a4642d3c9d0c",
        "collapsed": true
      },
      "cell_type": "code",
      "source": "d= train[X_cols]\nTF = train[imp_feats]\nTFT = test[imp_feats]\n\ntmp_train = d[d!=0]\ntmp_test = test[test!=0]\n\nTF[\"sum\"] = train[X_cols].sum(axis=1)\nTFT[\"sum\"] = test.sum(axis=1)\n\nTF[\"var\"] = tmp_train.var(axis=1)\nTFT[\"var\"] = tmp_test.var(axis=1)\n\nTF[\"mean\"] = tmp_train.mean(axis=1)\nTFT[\"mean\"] = tmp_test.mean(axis=1)\n\nTF[\"std\"] = tmp_train.std(axis=1)\nTFT[\"std\"] = tmp_test.std(axis=1)\n\nTF[\"skew\"] = tmp_train.skew(axis=1)\nTFT[\"skew\"] = tmp_test.skew(axis=1)\n\nTF[\"kurtosis\"] = tmp_train.kurtosis(axis=1)\nTFT[\"kurtosis\"] = tmp_test.kurtosis(axis=1)",
      "execution_count": null,
      "outputs": []
    },
    {
      "metadata": {
        "_uuid": "7193fee391f2894b76f23849286a365b542ff538"
      },
      "cell_type": "markdown",
      "source": "### Feature Agglomeration"
    },
    {
      "metadata": {
        "trusted": true,
        "_uuid": "1f240d30fc8c601950393ac5cee6ae82925e09ba",
        "collapsed": true
      },
      "cell_type": "code",
      "source": "agglo = FeatureAgglomeration(n_clusters=60)\nagglo.fit(d,y)",
      "execution_count": null,
      "outputs": []
    },
    {
      "metadata": {
        "trusted": true,
        "collapsed": true,
        "_uuid": "50ebb91a4c53dcc6cfe2d724db30b2f81d17a9db"
      },
      "cell_type": "code",
      "source": "#Transforming the data with merged features\nX_new = agglo.transform(d)\nX_TNEW = agglo.transform(test)",
      "execution_count": null,
      "outputs": []
    },
    {
      "metadata": {
        "trusted": true,
        "_uuid": "37fd7229314653f45ca1dec156f57796cf23c7c9",
        "collapsed": true
      },
      "cell_type": "code",
      "source": "# Naming the columns\ncols = [] \nfor i in range(1,61):\n    c ='feat_agg'+str(i)\n    i+=1\n    cols.append(c)",
      "execution_count": null,
      "outputs": []
    },
    {
      "metadata": {
        "trusted": true,
        "_uuid": "2a18ac5019334e2d965d04b750464c2548828ea1",
        "collapsed": true
      },
      "cell_type": "code",
      "source": "agglo_df_train = pd.DataFrame(X_new,columns=cols) \nagglo_df_test = pd.DataFrame(X_TNEW,columns=cols)",
      "execution_count": null,
      "outputs": []
    },
    {
      "metadata": {
        "trusted": true,
        "_uuid": "c7180b5e6bac38af1d654cd6cacd9877e41b15f8",
        "collapsed": true
      },
      "cell_type": "code",
      "source": "Comb_feats = pd.concat([TF,agglo_df_train],axis=1) # combined fetures\nComb_feats.shape",
      "execution_count": null,
      "outputs": []
    },
    {
      "metadata": {
        "trusted": true,
        "_uuid": "b89ec4ae1c5d3bc3c0bffa8a9f18bf275a07126f",
        "collapsed": true
      },
      "cell_type": "code",
      "source": "Comb_feats_test = pd.concat([TFT,agglo_df_test], axis=1)\nComb_feats_test.shape",
      "execution_count": null,
      "outputs": []
    },
    {
      "metadata": {
        "trusted": true,
        "_uuid": "2a1e6b9842e194cb6834f0c444372f2bb782aba7",
        "collapsed": true
      },
      "cell_type": "markdown",
      "source": "## Modelling"
    },
    {
      "metadata": {
        "trusted": true,
        "_uuid": "9e2b7df384d21d75d029273df90e143049a174be",
        "collapsed": true
      },
      "cell_type": "code",
      "source": "dev_X, val_X, dev_y, val_y = train_test_split(Comb_feats, y, test_size = 0.25, random_state = 42)",
      "execution_count": null,
      "outputs": []
    },
    {
      "metadata": {
        "trusted": true,
        "collapsed": true,
        "_uuid": "9377fa4e8638ea40ef38fead2da6eccd2fee56ab"
      },
      "cell_type": "code",
      "source": "def run_lgb(train_X, train_y, val_X, val_y, test_X):\n    params = {\n        \"objective\" : \"regression\",\n        \"metric\" : \"rmse\",\n        \"num_leaves\" : 80,\n        \"max_depth\" : 7,\n#         \"learning_rate\" : 0.004,\n        \"bagging_fraction\" : 0.5,\n        \"feature_fraction\" : 0.7,\n        \"bagging_frequency\" : 6,\n        \"max_bin\": 130,\n        \"bagging_seed\" : 42,\n        \"verbosity\" : -1,\n        \"seed\": 42,\n        \"lambda_l1\":\n    }\n    \n    lgtrain = lgb.Dataset(train_X, label=train_y)\n    lgval = lgb.Dataset(val_X, label=val_y)\n    evals_result = {}\n    model = lgb.train(params, lgtrain, 5000, \n                      valid_sets=[lgtrain, lgval], \n                      early_stopping_rounds=100, \n                      verbose_eval=100, \n                      evals_result=evals_result)\n    \n    pred_test_y = np.expm1(model.predict(test_X, num_iteration=model.best_iteration))\n    return pred_test_y, model, evals_result",
      "execution_count": null,
      "outputs": []
    },
    {
      "metadata": {
        "trusted": true,
        "_uuid": "769402ca6da90a0a4e2f77add213d069e5c78364",
        "collapsed": true
      },
      "cell_type": "code",
      "source": "pred_test, model, evals_result = run_lgb(dev_X, dev_y, val_X, val_y, Comb_feats_test)\nprint(\"LightGBM Training Completed...\")",
      "execution_count": null,
      "outputs": []
    },
    {
      "metadata": {
        "trusted": true,
        "_uuid": "5cbe131511e005e5c6a1e8c93b52e445857e5d8b",
        "collapsed": true
      },
      "cell_type": "code",
      "source": "sub = pd.read_csv('../input/sample_submission.csv')\nsub_lgb = pd.DataFrame()\nsub_lgb[\"target\"] = pred_test\nsub_lgb[\"ID\"] = sub[\"ID\"]\nsub_lgb.to_csv(\"sub_lgb.csv\", index=False)\nprint(pred_test)\n",
      "execution_count": null,
      "outputs": []
    },
    {
      "metadata": {
        "trusted": true,
        "collapsed": true,
        "_uuid": "6c2b9d9f089ea253ec541743f1ec7ab72fa0c7a9"
      },
      "cell_type": "code",
      "source": "",
      "execution_count": null,
      "outputs": []
    }
  ],
  "metadata": {
    "kernelspec": {
      "display_name": "Python 3",
      "language": "python",
      "name": "python3"
    },
    "language_info": {
      "name": "python",
      "version": "3.6.6",
      "mimetype": "text/x-python",
      "codemirror_mode": {
        "name": "ipython",
        "version": 3
      },
      "pygments_lexer": "ipython3",
      "nbconvert_exporter": "python",
      "file_extension": ".py"
    }
  },
  "nbformat": 4,
  "nbformat_minor": 1
}